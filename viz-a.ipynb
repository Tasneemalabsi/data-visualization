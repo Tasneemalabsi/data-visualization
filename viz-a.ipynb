{
 "cells": [
  {
   "cell_type": "markdown",
   "metadata": {},
   "source": [
    "# Webtoon App Statistics"
   ]
  },
  {
   "cell_type": "code",
   "execution_count": 2,
   "metadata": {},
   "outputs": [],
   "source": [
    "import pandas as pd\n",
    "import numpy as np\n",
    "import matplotlib.pyplot as plt\n",
    "import seaborn as sns"
   ]
  },
  {
   "cell_type": "markdown",
   "metadata": {},
   "source": [
    "## Read the Webtoon dataset using pandas"
   ]
  },
  {
   "cell_type": "code",
   "execution_count": 9,
   "metadata": {},
   "outputs": [
    {
     "data": {
      "text/html": [
       "<div>\n",
       "<style scoped>\n",
       "    .dataframe tbody tr th:only-of-type {\n",
       "        vertical-align: middle;\n",
       "    }\n",
       "\n",
       "    .dataframe tbody tr th {\n",
       "        vertical-align: top;\n",
       "    }\n",
       "\n",
       "    .dataframe thead th {\n",
       "        text-align: right;\n",
       "    }\n",
       "</style>\n",
       "<table border=\"1\" class=\"dataframe\">\n",
       "  <thead>\n",
       "    <tr style=\"text-align: right;\">\n",
       "      <th></th>\n",
       "      <th>id</th>\n",
       "      <th>Name</th>\n",
       "      <th>Writer</th>\n",
       "      <th>Likes</th>\n",
       "      <th>Genre</th>\n",
       "      <th>Rating</th>\n",
       "      <th>Subscribers</th>\n",
       "      <th>Summary</th>\n",
       "      <th>Update</th>\n",
       "      <th>Reading Link</th>\n",
       "    </tr>\n",
       "  </thead>\n",
       "  <tbody>\n",
       "    <tr>\n",
       "      <th>0</th>\n",
       "      <td>0</td>\n",
       "      <td>Let's Play</td>\n",
       "      <td>Leeanne M. Krecic (Mongie)</td>\n",
       "      <td>30.6M</td>\n",
       "      <td>Romance</td>\n",
       "      <td>9.62</td>\n",
       "      <td>4.2M</td>\n",
       "      <td>She's young, single and about to achieve her d...</td>\n",
       "      <td>UP EVERY TUESDAY</td>\n",
       "      <td>https://www.webtoons.com/en/romance/letsplay/l...</td>\n",
       "    </tr>\n",
       "    <tr>\n",
       "      <th>1</th>\n",
       "      <td>1</td>\n",
       "      <td>True Beauty</td>\n",
       "      <td>Yaongyi</td>\n",
       "      <td>39.9M</td>\n",
       "      <td>Romance</td>\n",
       "      <td>9.60</td>\n",
       "      <td>6.4M</td>\n",
       "      <td>After binge-watching beauty videos online, a s...</td>\n",
       "      <td>UP EVERY WEDNESDAY</td>\n",
       "      <td>https://www.webtoons.com/en/romance/truebeauty...</td>\n",
       "    </tr>\n",
       "    <tr>\n",
       "      <th>2</th>\n",
       "      <td>2</td>\n",
       "      <td>Midnight Poppy Land</td>\n",
       "      <td>Lilydusk</td>\n",
       "      <td>10.4M</td>\n",
       "      <td>Romance</td>\n",
       "      <td>9.81</td>\n",
       "      <td>2.1M</td>\n",
       "      <td>After making a grisly discovery in the country...</td>\n",
       "      <td>UP EVERY SATURDAY</td>\n",
       "      <td>https://www.webtoons.com/en/romance/midnight-p...</td>\n",
       "    </tr>\n",
       "    <tr>\n",
       "      <th>3</th>\n",
       "      <td>3</td>\n",
       "      <td>Age Matters</td>\n",
       "      <td>Enjelicious</td>\n",
       "      <td>25.9M</td>\n",
       "      <td>Romance</td>\n",
       "      <td>9.79</td>\n",
       "      <td>3.5M</td>\n",
       "      <td>She's a hopeless romantic who's turning 30's  ...</td>\n",
       "      <td>UP EVERY WEDNESDAY</td>\n",
       "      <td>https://www.webtoons.com/en/romance/age-matter...</td>\n",
       "    </tr>\n",
       "    <tr>\n",
       "      <th>4</th>\n",
       "      <td>4</td>\n",
       "      <td>Unholy Blood</td>\n",
       "      <td>Lina Im / Jeonghyeon Kim</td>\n",
       "      <td>9.9M</td>\n",
       "      <td>Supernatural</td>\n",
       "      <td>9.85</td>\n",
       "      <td>1.5M</td>\n",
       "      <td>When vampires destroy her chance to have the n...</td>\n",
       "      <td>UP EVERY THURSDAY</td>\n",
       "      <td>https://www.webtoons.com/en/supernatural/unhol...</td>\n",
       "    </tr>\n",
       "    <tr>\n",
       "      <th>5</th>\n",
       "      <td>5</td>\n",
       "      <td>LUMINE</td>\n",
       "      <td>Emma Krogell</td>\n",
       "      <td>18.9M</td>\n",
       "      <td>Fantasy</td>\n",
       "      <td>9.82</td>\n",
       "      <td>3M</td>\n",
       "      <td>A runaway werewolf, Lumine, meets a witch boy ...</td>\n",
       "      <td>UP EVERY SUNDAY</td>\n",
       "      <td>https://www.webtoons.com/en/fantasy/lumine/lis...</td>\n",
       "    </tr>\n",
       "    <tr>\n",
       "      <th>6</th>\n",
       "      <td>6</td>\n",
       "      <td>Jackson's Diary</td>\n",
       "      <td>Paola Batalla</td>\n",
       "      <td>2.9M</td>\n",
       "      <td>Supernatural</td>\n",
       "      <td>9.66</td>\n",
       "      <td>649K</td>\n",
       "      <td>The year is 1989, and Jackson is starting his ...</td>\n",
       "      <td>UP EVERY SUNDAY</td>\n",
       "      <td>https://www.webtoons.com/en/supernatural/jacks...</td>\n",
       "    </tr>\n",
       "    <tr>\n",
       "      <th>7</th>\n",
       "      <td>7</td>\n",
       "      <td>Teenage Mercenary</td>\n",
       "      <td>YC / Rakyeon</td>\n",
       "      <td>9,29,796</td>\n",
       "      <td>Action</td>\n",
       "      <td>9.87</td>\n",
       "      <td>537.6K</td>\n",
       "      <td>At the age of eight, Ijin Yu lost his parents ...</td>\n",
       "      <td>UP EVERY WEDNESDAY</td>\n",
       "      <td>https://www.webtoons.com/en/action/teenage-mer...</td>\n",
       "    </tr>\n",
       "    <tr>\n",
       "      <th>8</th>\n",
       "      <td>8</td>\n",
       "      <td>Nice To Meet You</td>\n",
       "      <td>Wishroomness</td>\n",
       "      <td>5.8M</td>\n",
       "      <td>Romance</td>\n",
       "      <td>9.82</td>\n",
       "      <td>1.1M</td>\n",
       "      <td>A ditsy university student Mew finds a lost st...</td>\n",
       "      <td>UP EVERY MONDAY</td>\n",
       "      <td>https://www.webtoons.com/en/romance/nice-to-me...</td>\n",
       "    </tr>\n",
       "    <tr>\n",
       "      <th>9</th>\n",
       "      <td>9</td>\n",
       "      <td>I Love Yoo</td>\n",
       "      <td>Quimchee</td>\n",
       "      <td>29M</td>\n",
       "      <td>Drama</td>\n",
       "      <td>9.78</td>\n",
       "      <td>4.3M</td>\n",
       "      <td>Dogged by pain and misfortune from the very be...</td>\n",
       "      <td>UP EVERY FRIDAY</td>\n",
       "      <td>https://www.webtoons.com/en/drama/i-love-yoo/l...</td>\n",
       "    </tr>\n",
       "    <tr>\n",
       "      <th>10</th>\n",
       "      <td>10</td>\n",
       "      <td>The Makeup Remover</td>\n",
       "      <td>Lee Yone</td>\n",
       "      <td>9.3M</td>\n",
       "      <td>Romance</td>\n",
       "      <td>9.70</td>\n",
       "      <td>1M</td>\n",
       "      <td>After years of being told to focus on studying...</td>\n",
       "      <td>UP EVERY TUE, FRI</td>\n",
       "      <td>https://www.webtoons.com/en/romance/the-makeup...</td>\n",
       "    </tr>\n",
       "    <tr>\n",
       "      <th>11</th>\n",
       "      <td>11</td>\n",
       "      <td>Acception</td>\n",
       "      <td>Colourbee</td>\n",
       "      <td>10.2M</td>\n",
       "      <td>Drama</td>\n",
       "      <td>9.07</td>\n",
       "      <td>750.6K</td>\n",
       "      <td>With his rainbow-colored hair and love of all ...</td>\n",
       "      <td>UP EVERY TUE, FRI</td>\n",
       "      <td>https://www.webtoons.com/en/drama/acception/li...</td>\n",
       "    </tr>\n",
       "    <tr>\n",
       "      <th>12</th>\n",
       "      <td>12</td>\n",
       "      <td>She's Hopeless</td>\n",
       "      <td>Seokwoo</td>\n",
       "      <td>1.5M</td>\n",
       "      <td>Drama</td>\n",
       "      <td>9.66</td>\n",
       "      <td>669.6K</td>\n",
       "      <td>Though she comes from a rich family, Gabin is ...</td>\n",
       "      <td>UP EVERY SATURDAY</td>\n",
       "      <td>https://www.webtoons.com/en/drama/shes-hopeles...</td>\n",
       "    </tr>\n",
       "    <tr>\n",
       "      <th>13</th>\n",
       "      <td>13</td>\n",
       "      <td>The Blood of the Butterfly</td>\n",
       "      <td>SAM</td>\n",
       "      <td>8.3M</td>\n",
       "      <td>Fantasy</td>\n",
       "      <td>9.75</td>\n",
       "      <td>332.3K</td>\n",
       "      <td>When a swarm of giant bugs threatens to wipe o...</td>\n",
       "      <td>UP EVERY SATURDAY</td>\n",
       "      <td>https://www.webtoons.com/en/fantasy/your-thron...</td>\n",
       "    </tr>\n",
       "    <tr>\n",
       "      <th>14</th>\n",
       "      <td>14</td>\n",
       "      <td>Your Throne</td>\n",
       "      <td>Remin</td>\n",
       "      <td>2,17,959</td>\n",
       "      <td>Fantasy</td>\n",
       "      <td>9.81</td>\n",
       "      <td>1.2M</td>\n",
       "      <td>Tensions are brewing under the seemingly calm ...</td>\n",
       "      <td>UP EVERY SATURDAY</td>\n",
       "      <td>https://www.webtoons.com/en/fantasy/blood-of-t...</td>\n",
       "    </tr>\n",
       "    <tr>\n",
       "      <th>15</th>\n",
       "      <td>15</td>\n",
       "      <td>To Love Your Enemy</td>\n",
       "      <td>Jungyoon / Taegeon</td>\n",
       "      <td>10.8M</td>\n",
       "      <td>Romance</td>\n",
       "      <td>9.74</td>\n",
       "      <td>1.7M</td>\n",
       "      <td>Having mastered the art of lying her way throu...</td>\n",
       "      <td>UP EVERY MONDAY</td>\n",
       "      <td>https://www.webtoons.com/en/romance/to-love-yo...</td>\n",
       "    </tr>\n",
       "    <tr>\n",
       "      <th>16</th>\n",
       "      <td>16</td>\n",
       "      <td>Sixth Sense Kiss</td>\n",
       "      <td>Got W / Jocobong</td>\n",
       "      <td>7,90,313</td>\n",
       "      <td>Romance</td>\n",
       "      <td>9.71</td>\n",
       "      <td>485.1K</td>\n",
       "      <td>Yesul Hong has a secret -- when she kisses som...</td>\n",
       "      <td>UP EVERY SATURDAY</td>\n",
       "      <td>https://www.webtoons.com/en/romance/sixth-sens...</td>\n",
       "    </tr>\n",
       "    <tr>\n",
       "      <th>17</th>\n",
       "      <td>17</td>\n",
       "      <td>Weak Hero</td>\n",
       "      <td>SEOPASS / RAZEN</td>\n",
       "      <td>9.9M</td>\n",
       "      <td>Action</td>\n",
       "      <td>9.85</td>\n",
       "      <td>1M</td>\n",
       "      <td>Once the bullies target you, it's game over. T...</td>\n",
       "      <td>UP EVERY THURSDAY</td>\n",
       "      <td>https://www.webtoons.com/en/action/weakhero/li...</td>\n",
       "    </tr>\n",
       "    <tr>\n",
       "      <th>18</th>\n",
       "      <td>18</td>\n",
       "      <td>Shotgun Boy</td>\n",
       "      <td>Carnby Kim / Hongpil</td>\n",
       "      <td>1.7M</td>\n",
       "      <td>Thriller</td>\n",
       "      <td>9.83</td>\n",
       "      <td>620.8K</td>\n",
       "      <td>While running for his life in the woods, bully...</td>\n",
       "      <td>UP EVERY THURSDAY</td>\n",
       "      <td>https://www.webtoons.com/en/thriller/shotgun-b...</td>\n",
       "    </tr>\n",
       "    <tr>\n",
       "      <th>19</th>\n",
       "      <td>19</td>\n",
       "      <td>Love Me Knot</td>\n",
       "      <td>Sophia</td>\n",
       "      <td>3.8M</td>\n",
       "      <td>Romance</td>\n",
       "      <td>9.37</td>\n",
       "      <td>838.8K</td>\n",
       "      <td>You'd think that being able to see the Red Str...</td>\n",
       "      <td>UP EVERY WEDNESDAY</td>\n",
       "      <td>https://www.webtoons.com/en/romance/love-me-kn...</td>\n",
       "    </tr>\n",
       "  </tbody>\n",
       "</table>\n",
       "</div>"
      ],
      "text/plain": [
       "    id                        Name                      Writer     Likes  \\\n",
       "0    0                  Let's Play  Leeanne M. Krecic (Mongie)     30.6M   \n",
       "1    1                 True Beauty                     Yaongyi     39.9M   \n",
       "2    2         Midnight Poppy Land                    Lilydusk     10.4M   \n",
       "3    3                 Age Matters                 Enjelicious     25.9M   \n",
       "4    4                Unholy Blood    Lina Im / Jeonghyeon Kim      9.9M   \n",
       "5    5                      LUMINE                Emma Krogell     18.9M   \n",
       "6    6             Jackson's Diary               Paola Batalla      2.9M   \n",
       "7    7           Teenage Mercenary                YC / Rakyeon  9,29,796   \n",
       "8    8            Nice To Meet You                Wishroomness      5.8M   \n",
       "9    9                  I Love Yoo                    Quimchee       29M   \n",
       "10  10          The Makeup Remover                    Lee Yone      9.3M   \n",
       "11  11                   Acception                   Colourbee     10.2M   \n",
       "12  12              She's Hopeless                     Seokwoo      1.5M   \n",
       "13  13  The Blood of the Butterfly                         SAM      8.3M   \n",
       "14  14                 Your Throne                       Remin  2,17,959   \n",
       "15  15          To Love Your Enemy          Jungyoon / Taegeon     10.8M   \n",
       "16  16            Sixth Sense Kiss            Got W / Jocobong  7,90,313   \n",
       "17  17                   Weak Hero             SEOPASS / RAZEN      9.9M   \n",
       "18  18                 Shotgun Boy        Carnby Kim / Hongpil      1.7M   \n",
       "19  19                Love Me Knot                      Sophia      3.8M   \n",
       "\n",
       "           Genre  Rating Subscribers  \\\n",
       "0        Romance    9.62        4.2M   \n",
       "1        Romance    9.60        6.4M   \n",
       "2        Romance    9.81        2.1M   \n",
       "3        Romance    9.79        3.5M   \n",
       "4   Supernatural    9.85        1.5M   \n",
       "5        Fantasy    9.82          3M   \n",
       "6   Supernatural    9.66        649K   \n",
       "7         Action    9.87      537.6K   \n",
       "8        Romance    9.82        1.1M   \n",
       "9          Drama    9.78        4.3M   \n",
       "10       Romance    9.70          1M   \n",
       "11         Drama    9.07      750.6K   \n",
       "12         Drama    9.66      669.6K   \n",
       "13       Fantasy    9.75      332.3K   \n",
       "14       Fantasy    9.81        1.2M   \n",
       "15       Romance    9.74        1.7M   \n",
       "16       Romance    9.71      485.1K   \n",
       "17        Action    9.85          1M   \n",
       "18      Thriller    9.83      620.8K   \n",
       "19       Romance    9.37      838.8K   \n",
       "\n",
       "                                              Summary              Update  \\\n",
       "0   She's young, single and about to achieve her d...    UP EVERY TUESDAY   \n",
       "1   After binge-watching beauty videos online, a s...  UP EVERY WEDNESDAY   \n",
       "2   After making a grisly discovery in the country...   UP EVERY SATURDAY   \n",
       "3   She's a hopeless romantic who's turning 30's  ...  UP EVERY WEDNESDAY   \n",
       "4   When vampires destroy her chance to have the n...   UP EVERY THURSDAY   \n",
       "5   A runaway werewolf, Lumine, meets a witch boy ...     UP EVERY SUNDAY   \n",
       "6   The year is 1989, and Jackson is starting his ...     UP EVERY SUNDAY   \n",
       "7   At the age of eight, Ijin Yu lost his parents ...  UP EVERY WEDNESDAY   \n",
       "8   A ditsy university student Mew finds a lost st...     UP EVERY MONDAY   \n",
       "9   Dogged by pain and misfortune from the very be...     UP EVERY FRIDAY   \n",
       "10  After years of being told to focus on studying...   UP EVERY TUE, FRI   \n",
       "11  With his rainbow-colored hair and love of all ...   UP EVERY TUE, FRI   \n",
       "12  Though she comes from a rich family, Gabin is ...   UP EVERY SATURDAY   \n",
       "13  When a swarm of giant bugs threatens to wipe o...   UP EVERY SATURDAY   \n",
       "14  Tensions are brewing under the seemingly calm ...   UP EVERY SATURDAY   \n",
       "15  Having mastered the art of lying her way throu...     UP EVERY MONDAY   \n",
       "16  Yesul Hong has a secret -- when she kisses som...   UP EVERY SATURDAY   \n",
       "17  Once the bullies target you, it's game over. T...   UP EVERY THURSDAY   \n",
       "18  While running for his life in the woods, bully...   UP EVERY THURSDAY   \n",
       "19  You'd think that being able to see the Red Str...  UP EVERY WEDNESDAY   \n",
       "\n",
       "                                         Reading Link  \n",
       "0   https://www.webtoons.com/en/romance/letsplay/l...  \n",
       "1   https://www.webtoons.com/en/romance/truebeauty...  \n",
       "2   https://www.webtoons.com/en/romance/midnight-p...  \n",
       "3   https://www.webtoons.com/en/romance/age-matter...  \n",
       "4   https://www.webtoons.com/en/supernatural/unhol...  \n",
       "5   https://www.webtoons.com/en/fantasy/lumine/lis...  \n",
       "6   https://www.webtoons.com/en/supernatural/jacks...  \n",
       "7   https://www.webtoons.com/en/action/teenage-mer...  \n",
       "8   https://www.webtoons.com/en/romance/nice-to-me...  \n",
       "9   https://www.webtoons.com/en/drama/i-love-yoo/l...  \n",
       "10  https://www.webtoons.com/en/romance/the-makeup...  \n",
       "11  https://www.webtoons.com/en/drama/acception/li...  \n",
       "12  https://www.webtoons.com/en/drama/shes-hopeles...  \n",
       "13  https://www.webtoons.com/en/fantasy/your-thron...  \n",
       "14  https://www.webtoons.com/en/fantasy/blood-of-t...  \n",
       "15  https://www.webtoons.com/en/romance/to-love-yo...  \n",
       "16  https://www.webtoons.com/en/romance/sixth-sens...  \n",
       "17  https://www.webtoons.com/en/action/weakhero/li...  \n",
       "18  https://www.webtoons.com/en/thriller/shotgun-b...  \n",
       "19  https://www.webtoons.com/en/romance/love-me-kn...  "
      ]
     },
     "execution_count": 9,
     "metadata": {},
     "output_type": "execute_result"
    }
   ],
   "source": [
    "df = pd.read_csv('./Webtoon Dataset.csv').head(20)\n",
    "df\n"
   ]
  },
  {
   "cell_type": "markdown",
   "metadata": {},
   "source": [
    "### the counts of each Webtoon with a certain genre "
   ]
  },
  {
   "cell_type": "code",
   "execution_count": 11,
   "metadata": {},
   "outputs": [
    {
     "data": {
      "text/plain": [
       "<AxesSubplot:xlabel='Genre', ylabel='count'>"
      ]
     },
     "execution_count": 11,
     "metadata": {},
     "output_type": "execute_result"
    },
    {
     "data": {
      "image/png": "[encoded data removed]",
      "text/plain": [
       "<Figure size 432x288 with 1 Axes>"
      ]
     },
     "metadata": {
      "needs_background": "light"
     },
     "output_type": "display_data"
    }
   ],
   "source": [
    "sns.countplot(x=\"Genre\", data=df)"
   ]
  },
  {
   "cell_type": "markdown",
   "metadata": {},
   "source": [
    "### Now, we want to plot the likes vs the subscribers and see how they are related"
   ]
  },
  {
   "cell_type": "code",
   "execution_count": 22,
   "metadata": {},
   "outputs": [
    {
     "data": {
      "text/html": [
       "<div>\n",
       "<style scoped>\n",
       "    .dataframe tbody tr th:only-of-type {\n",
       "        vertical-align: middle;\n",
       "    }\n",
       "\n",
       "    .dataframe tbody tr th {\n",
       "        vertical-align: top;\n",
       "    }\n",
       "\n",
       "    .dataframe thead th {\n",
       "        text-align: right;\n",
       "    }\n",
       "</style>\n",
       "<table border=\"1\" class=\"dataframe\">\n",
       "  <thead>\n",
       "    <tr style=\"text-align: right;\">\n",
       "      <th></th>\n",
       "      <th>Name</th>\n",
       "      <th>Likes</th>\n",
       "      <th>Subscribers</th>\n",
       "    </tr>\n",
       "  </thead>\n",
       "  <tbody>\n",
       "    <tr>\n",
       "      <th>0</th>\n",
       "      <td>Let's Play</td>\n",
       "      <td>30.6M</td>\n",
       "      <td>4.2M</td>\n",
       "    </tr>\n",
       "    <tr>\n",
       "      <th>1</th>\n",
       "      <td>True Beauty</td>\n",
       "      <td>39.9M</td>\n",
       "      <td>6.4M</td>\n",
       "    </tr>\n",
       "    <tr>\n",
       "      <th>2</th>\n",
       "      <td>Midnight Poppy Land</td>\n",
       "      <td>10.4M</td>\n",
       "      <td>2.1M</td>\n",
       "    </tr>\n",
       "    <tr>\n",
       "      <th>3</th>\n",
       "      <td>Age Matters</td>\n",
       "      <td>25.9M</td>\n",
       "      <td>3.5M</td>\n",
       "    </tr>\n",
       "    <tr>\n",
       "      <th>4</th>\n",
       "      <td>Unholy Blood</td>\n",
       "      <td>9.9M</td>\n",
       "      <td>1.5M</td>\n",
       "    </tr>\n",
       "    <tr>\n",
       "      <th>5</th>\n",
       "      <td>LUMINE</td>\n",
       "      <td>18.9M</td>\n",
       "      <td>3M</td>\n",
       "    </tr>\n",
       "    <tr>\n",
       "      <th>6</th>\n",
       "      <td>Jackson's Diary</td>\n",
       "      <td>2.9M</td>\n",
       "      <td>649K</td>\n",
       "    </tr>\n",
       "    <tr>\n",
       "      <th>7</th>\n",
       "      <td>Teenage Mercenary</td>\n",
       "      <td>9,29,796</td>\n",
       "      <td>537.6K</td>\n",
       "    </tr>\n",
       "    <tr>\n",
       "      <th>8</th>\n",
       "      <td>Nice To Meet You</td>\n",
       "      <td>5.8M</td>\n",
       "      <td>1.1M</td>\n",
       "    </tr>\n",
       "    <tr>\n",
       "      <th>9</th>\n",
       "      <td>I Love Yoo</td>\n",
       "      <td>29M</td>\n",
       "      <td>4.3M</td>\n",
       "    </tr>\n",
       "  </tbody>\n",
       "</table>\n",
       "</div>"
      ],
      "text/plain": [
       "                  Name     Likes Subscribers\n",
       "0           Let's Play     30.6M        4.2M\n",
       "1          True Beauty     39.9M        6.4M\n",
       "2  Midnight Poppy Land     10.4M        2.1M\n",
       "3          Age Matters     25.9M        3.5M\n",
       "4         Unholy Blood      9.9M        1.5M\n",
       "5               LUMINE     18.9M          3M\n",
       "6      Jackson's Diary      2.9M        649K\n",
       "7    Teenage Mercenary  9,29,796      537.6K\n",
       "8     Nice To Meet You      5.8M        1.1M\n",
       "9           I Love Yoo       29M        4.3M"
      ]
     },
     "execution_count": 22,
     "metadata": {},
     "output_type": "execute_result"
    }
   ],
   "source": [
    "likes_subscribers=df[['Name','Likes','Subscribers']].head(10)\n",
    "likes_subscribers"
   ]
  },
  {
   "cell_type": "code",
   "execution_count": 31,
   "metadata": {},
   "outputs": [
    {
     "data": {
      "text/plain": [
       "<seaborn.axisgrid.FacetGrid at 0x7f1bf984b5b0>"
      ]
     },
     "execution_count": 31,
     "metadata": {},
     "output_type": "execute_result"
    },
    {
     "data": {
      "image/png": "[encoded data removed]",
      "text/plain": [
       "<Figure size 360x360 with 1 Axes>"
      ]
     },
     "metadata": {
      "needs_background": "light"
     },
     "output_type": "display_data"
    }
   ],
   "source": [
    "plot_legend = 'likes_subscribers'\n",
    "plot=sns.relplot(x='Subscribers', y='Likes', data=likes_subscribers)\n",
    "plot\n"
   ]
  },
  {
   "cell_type": "markdown",
   "metadata": {},
   "source": [
    " ### we notice that the likes and the subscribers have a linear relation, the more subscribers a series has, the more likes it gets . Now, if we want the average of the rating for each Genre:"
   ]
  },
  {
   "cell_type": "code",
   "execution_count": 56,
   "metadata": {},
   "outputs": [
    {
     "data": {
      "text/html": [
       "<div>\n",
       "<style scoped>\n",
       "    .dataframe tbody tr th:only-of-type {\n",
       "        vertical-align: middle;\n",
       "    }\n",
       "\n",
       "    .dataframe tbody tr th {\n",
       "        vertical-align: top;\n",
       "    }\n",
       "\n",
       "    .dataframe thead th {\n",
       "        text-align: right;\n",
       "    }\n",
       "</style>\n",
       "<table border=\"1\" class=\"dataframe\">\n",
       "  <thead>\n",
       "    <tr style=\"text-align: right;\">\n",
       "      <th></th>\n",
       "      <th>Genre</th>\n",
       "      <th>id</th>\n",
       "      <th>Rating</th>\n",
       "    </tr>\n",
       "  </thead>\n",
       "  <tbody>\n",
       "    <tr>\n",
       "      <th>0</th>\n",
       "      <td>Action</td>\n",
       "      <td>12.000000</td>\n",
       "      <td>9.860000</td>\n",
       "    </tr>\n",
       "    <tr>\n",
       "      <th>1</th>\n",
       "      <td>Drama</td>\n",
       "      <td>10.666667</td>\n",
       "      <td>9.503333</td>\n",
       "    </tr>\n",
       "    <tr>\n",
       "      <th>2</th>\n",
       "      <td>Fantasy</td>\n",
       "      <td>10.666667</td>\n",
       "      <td>9.793333</td>\n",
       "    </tr>\n",
       "    <tr>\n",
       "      <th>3</th>\n",
       "      <td>Romance</td>\n",
       "      <td>8.222222</td>\n",
       "      <td>9.684444</td>\n",
       "    </tr>\n",
       "    <tr>\n",
       "      <th>4</th>\n",
       "      <td>Supernatural</td>\n",
       "      <td>5.000000</td>\n",
       "      <td>9.755000</td>\n",
       "    </tr>\n",
       "    <tr>\n",
       "      <th>5</th>\n",
       "      <td>Thriller</td>\n",
       "      <td>18.000000</td>\n",
       "      <td>9.830000</td>\n",
       "    </tr>\n",
       "  </tbody>\n",
       "</table>\n",
       "</div>"
      ],
      "text/plain": [
       "          Genre         id    Rating\n",
       "0        Action  12.000000  9.860000\n",
       "1         Drama  10.666667  9.503333\n",
       "2       Fantasy  10.666667  9.793333\n",
       "3       Romance   8.222222  9.684444\n",
       "4  Supernatural   5.000000  9.755000\n",
       "5      Thriller  18.000000  9.830000"
      ]
     },
     "execution_count": 56,
     "metadata": {},
     "output_type": "execute_result"
    }
   ],
   "source": [
    "mean_rating = df.groupby('Genre', as_index=False).mean()\n",
    "mean_rating"
   ]
  },
  {
   "cell_type": "code",
   "execution_count": 63,
   "metadata": {},
   "outputs": [
    {
     "name": "stderr",
     "output_type": "stream",
     "text": [
      "/home/user/course401/data-visulization/.venv/lib/python3.9/site-packages/seaborn/_decorators.py:36: FutureWarning: Pass the following variables as keyword args: x, y. From version 0.12, the only valid positional argument will be `data`, and passing other arguments without an explicit keyword will result in an error or misinterpretation.\n",
      "  warnings.warn(\n"
     ]
    },
    {
     "data": {
      "text/plain": [
       "<AxesSubplot:xlabel='Genre', ylabel='Rating'>"
      ]
     },
     "execution_count": 63,
     "metadata": {},
     "output_type": "execute_result"
    },
    {
     "data": {
      "image/png": "[encoded data removed]",
      "text/plain": [
       "<Figure size 432x288 with 1 Axes>"
      ]
     },
     "metadata": {
      "needs_background": "light"
     },
     "output_type": "display_data"
    }
   ],
   "source": [
    "y = mean_rating[\"Rating\"]\n",
    "x=mean_rating[\"Genre\"]\n",
    "\n",
    "\n",
    "\n",
    "sns.lineplot(x,y)\n"
   ]
  },
  {
   "cell_type": "markdown",
   "metadata": {},
   "source": [
    "### We notice that the action series has the highest rating, Drama has the lowest, which means that authors should pay attention to making more action series since Action genre was not frequent as the other genre as we saw in the count plot of all of the genre\n",
    "\n",
    "### Now let's look as the daily updates vs the number of subscribers "
   ]
  },
  {
   "cell_type": "code",
   "execution_count": 116,
   "metadata": {},
   "outputs": [
    {
     "data": {
      "text/html": [
       "<div>\n",
       "<style scoped>\n",
       "    .dataframe tbody tr th:only-of-type {\n",
       "        vertical-align: middle;\n",
       "    }\n",
       "\n",
       "    .dataframe tbody tr th {\n",
       "        vertical-align: top;\n",
       "    }\n",
       "\n",
       "    .dataframe thead th {\n",
       "        text-align: right;\n",
       "    }\n",
       "</style>\n",
       "<table border=\"1\" class=\"dataframe\">\n",
       "  <thead>\n",
       "    <tr style=\"text-align: right;\">\n",
       "      <th></th>\n",
       "      <th>Name</th>\n",
       "      <th>Subscribers</th>\n",
       "      <th>Update</th>\n",
       "    </tr>\n",
       "  </thead>\n",
       "  <tbody>\n",
       "    <tr>\n",
       "      <th>0</th>\n",
       "      <td>Let's Play</td>\n",
       "      <td>4.2M</td>\n",
       "      <td>UP EVERY TUESDAY</td>\n",
       "    </tr>\n",
       "    <tr>\n",
       "      <th>1</th>\n",
       "      <td>True Beauty</td>\n",
       "      <td>6.4M</td>\n",
       "      <td>UP EVERY WEDNESDAY</td>\n",
       "    </tr>\n",
       "    <tr>\n",
       "      <th>2</th>\n",
       "      <td>Midnight Poppy Land</td>\n",
       "      <td>2.1M</td>\n",
       "      <td>UP EVERY SATURDAY</td>\n",
       "    </tr>\n",
       "    <tr>\n",
       "      <th>3</th>\n",
       "      <td>Age Matters</td>\n",
       "      <td>3.5M</td>\n",
       "      <td>UP EVERY WEDNESDAY</td>\n",
       "    </tr>\n",
       "    <tr>\n",
       "      <th>4</th>\n",
       "      <td>Unholy Blood</td>\n",
       "      <td>1.5M</td>\n",
       "      <td>UP EVERY THURSDAY</td>\n",
       "    </tr>\n",
       "    <tr>\n",
       "      <th>5</th>\n",
       "      <td>LUMINE</td>\n",
       "      <td>3M</td>\n",
       "      <td>UP EVERY SUNDAY</td>\n",
       "    </tr>\n",
       "    <tr>\n",
       "      <th>6</th>\n",
       "      <td>Jackson's Diary</td>\n",
       "      <td>649K</td>\n",
       "      <td>UP EVERY SUNDAY</td>\n",
       "    </tr>\n",
       "    <tr>\n",
       "      <th>7</th>\n",
       "      <td>Teenage Mercenary</td>\n",
       "      <td>537.6K</td>\n",
       "      <td>UP EVERY WEDNESDAY</td>\n",
       "    </tr>\n",
       "    <tr>\n",
       "      <th>8</th>\n",
       "      <td>Nice To Meet You</td>\n",
       "      <td>1.1M</td>\n",
       "      <td>UP EVERY MONDAY</td>\n",
       "    </tr>\n",
       "    <tr>\n",
       "      <th>9</th>\n",
       "      <td>I Love Yoo</td>\n",
       "      <td>4.3M</td>\n",
       "      <td>UP EVERY FRIDAY</td>\n",
       "    </tr>\n",
       "  </tbody>\n",
       "</table>\n",
       "</div>"
      ],
      "text/plain": [
       "                  Name Subscribers              Update\n",
       "0           Let's Play        4.2M    UP EVERY TUESDAY\n",
       "1          True Beauty        6.4M  UP EVERY WEDNESDAY\n",
       "2  Midnight Poppy Land        2.1M   UP EVERY SATURDAY\n",
       "3          Age Matters        3.5M  UP EVERY WEDNESDAY\n",
       "4         Unholy Blood        1.5M   UP EVERY THURSDAY\n",
       "5               LUMINE          3M     UP EVERY SUNDAY\n",
       "6      Jackson's Diary        649K     UP EVERY SUNDAY\n",
       "7    Teenage Mercenary      537.6K  UP EVERY WEDNESDAY\n",
       "8     Nice To Meet You        1.1M     UP EVERY MONDAY\n",
       "9           I Love Yoo        4.3M     UP EVERY FRIDAY"
      ]
     },
     "execution_count": 116,
     "metadata": {},
     "output_type": "execute_result"
    }
   ],
   "source": [
    "daily_subscribers = df[['Name','Subscribers','Update']].head(10)\n",
    "daily_subscribers\n"
   ]
  },
  {
   "cell_type": "code",
   "execution_count": 118,
   "metadata": {},
   "outputs": [
    {
     "name": "stdout",
     "output_type": "stream",
     "text": [
      "[4.2, 6.4, 2.1, 3.5, 1.5, 3.0, 649.0, 537.6, 1.1, 4.3]\n"
     ]
    },
    {
     "data": {
      "text/plain": [
       "<AxesSubplot:>"
      ]
     },
     "execution_count": 118,
     "metadata": {},
     "output_type": "execute_result"
    },
    {
     "data": {
      "image/png": "[encoded data removed]",
      "text/plain": [
       "<Figure size 432x288 with 1 Axes>"
      ]
     },
     "metadata": {},
     "output_type": "display_data"
    }
   ],
   "source": [
    "sns.set_theme(style=\"darkgrid\")\n",
    "arr = []\n",
    "for i in range(len(daily_subscribers[\"Update\"])):\n",
    "    new_up=daily_subscribers[\"Update\"][i].split()\n",
    "    arr.append(new_up[2])\n",
    "    \n",
    "sub_arr=[]    \n",
    "for i in range(len(daily_subscribers[\"Subscribers\"])):\n",
    "    new_sub=daily_subscribers[\"Subscribers\"][i].replace(daily_subscribers[\"Subscribers\"][i][len(daily_subscribers[\"Subscribers\"][i])-1],\"\")\n",
    "    sub_arr.append(float(new_sub))\n",
    "print(sub_arr)       \n",
    "daily_plot= sns.lineplot(x=arr, y = sub_arr, data = daily_subscribers) \n",
    "daily_plot"
   ]
  },
  {
   "cell_type": "markdown",
   "metadata": {},
   "source": [
    "### from the graph above, we notice that people tend to subscribe the series that are updated on friday and tuesday, the peek of the graph of the sample data is on Sunday. Now let us take a look at the most popular authors:"
   ]
  },
  {
   "cell_type": "code",
   "execution_count": 114,
   "metadata": {},
   "outputs": [
    {
     "data": {
      "text/html": [
       "<div>\n",
       "<style scoped>\n",
       "    .dataframe tbody tr th:only-of-type {\n",
       "        vertical-align: middle;\n",
       "    }\n",
       "\n",
       "    .dataframe tbody tr th {\n",
       "        vertical-align: top;\n",
       "    }\n",
       "\n",
       "    .dataframe thead th {\n",
       "        text-align: right;\n",
       "    }\n",
       "</style>\n",
       "<table border=\"1\" class=\"dataframe\">\n",
       "  <thead>\n",
       "    <tr style=\"text-align: right;\">\n",
       "      <th></th>\n",
       "      <th>Name</th>\n",
       "      <th>Writer</th>\n",
       "      <th>Rating</th>\n",
       "    </tr>\n",
       "  </thead>\n",
       "  <tbody>\n",
       "    <tr>\n",
       "      <th>0</th>\n",
       "      <td>Let's Play</td>\n",
       "      <td>Leeanne M. Krecic (Mongie)</td>\n",
       "      <td>9.62</td>\n",
       "    </tr>\n",
       "    <tr>\n",
       "      <th>1</th>\n",
       "      <td>True Beauty</td>\n",
       "      <td>Yaongyi</td>\n",
       "      <td>9.60</td>\n",
       "    </tr>\n",
       "    <tr>\n",
       "      <th>2</th>\n",
       "      <td>Midnight Poppy Land</td>\n",
       "      <td>Lilydusk</td>\n",
       "      <td>9.81</td>\n",
       "    </tr>\n",
       "    <tr>\n",
       "      <th>3</th>\n",
       "      <td>Age Matters</td>\n",
       "      <td>Enjelicious</td>\n",
       "      <td>9.79</td>\n",
       "    </tr>\n",
       "    <tr>\n",
       "      <th>4</th>\n",
       "      <td>Unholy Blood</td>\n",
       "      <td>Lina Im / Jeonghyeon Kim</td>\n",
       "      <td>9.85</td>\n",
       "    </tr>\n",
       "    <tr>\n",
       "      <th>5</th>\n",
       "      <td>LUMINE</td>\n",
       "      <td>Emma Krogell</td>\n",
       "      <td>9.82</td>\n",
       "    </tr>\n",
       "    <tr>\n",
       "      <th>6</th>\n",
       "      <td>Jackson's Diary</td>\n",
       "      <td>Paola Batalla</td>\n",
       "      <td>9.66</td>\n",
       "    </tr>\n",
       "    <tr>\n",
       "      <th>7</th>\n",
       "      <td>Teenage Mercenary</td>\n",
       "      <td>YC / Rakyeon</td>\n",
       "      <td>9.87</td>\n",
       "    </tr>\n",
       "  </tbody>\n",
       "</table>\n",
       "</div>"
      ],
      "text/plain": [
       "                  Name                      Writer  Rating\n",
       "0           Let's Play  Leeanne M. Krecic (Mongie)    9.62\n",
       "1          True Beauty                     Yaongyi    9.60\n",
       "2  Midnight Poppy Land                    Lilydusk    9.81\n",
       "3          Age Matters                 Enjelicious    9.79\n",
       "4         Unholy Blood    Lina Im / Jeonghyeon Kim    9.85\n",
       "5               LUMINE                Emma Krogell    9.82\n",
       "6      Jackson's Diary               Paola Batalla    9.66\n",
       "7    Teenage Mercenary                YC / Rakyeon    9.87"
      ]
     },
     "execution_count": 114,
     "metadata": {},
     "output_type": "execute_result"
    }
   ],
   "source": [
    "popular_authors=df[['Name','Writer','Rating']].head(8)\n",
    "popular_authors"
   ]
  },
  {
   "cell_type": "code",
   "execution_count": 115,
   "metadata": {},
   "outputs": [
    {
     "data": {
      "text/plain": [
       "<AxesSubplot:ylabel='Rating'>"
      ]
     },
     "execution_count": 115,
     "metadata": {},
     "output_type": "execute_result"
    },
    {
     "data": {
      "image/png": "[encoded data removed]",
      "text/plain": [
       "<Figure size 432x288 with 1 Axes>"
      ]
     },
     "metadata": {},
     "output_type": "display_data"
    }
   ],
   "source": [
    "author_arr=[]\n",
    "for i in range(len(popular_authors[\"Writer\"])):\n",
    "    new_au=popular_authors[\"Writer\"][i].split()\n",
    "    author_arr.append(new_au[0])\n",
    "\n",
    "author_plot= sns.violinplot(x=author_arr, y = \"Rating\", data = popular_authors) \n",
    "author_plot"
   ]
  },
  {
   "cell_type": "markdown",
   "metadata": {},
   "source": [
    "### So YC or Rakyeon tends to be the most popular author since her series has the highest rating among all of the others in the sample data"
   ]
  },
  {
   "cell_type": "markdown",
   "metadata": {},
   "source": [
    "## Summary:\n",
    "1. the more subscribers a series has, the more likes it gets, they have a linear relation.\n",
    "2. people tend to read the series on Sunday, so the writers should be updating their series on this day to get more readers.\n",
    "3. Romance is the most common genre\n",
    "4. action genre has the highest rating\n",
    "5. YC/Rakyeon is the most popular author\n"
   ]
  }
 ],
 "metadata": {
  "interpreter": {
   "hash": "5cea37dba0e2563dac0d5a902b5e69764a810bf6297e06de7699076f1b76a7e5"
  },
  "kernelspec": {
   "display_name": "Python 3.9.5 64-bit ('.venv': poetry)",
   "name": "python3"
  },
  "language_info": {
   "codemirror_mode": {
    "name": "ipython",
    "version": 3
   },
   "file_extension": ".py",
   "mimetype": "text/x-python",
   "name": "python",
   "nbconvert_exporter": "python",
   "pygments_lexer": "ipython3",
   "version": "3.9.5"
  },
  "orig_nbformat": 4
 },
 "nbformat": 4,
 "nbformat_minor": 2
}
